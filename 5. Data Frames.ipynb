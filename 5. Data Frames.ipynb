{
 "cells": [
  {
   "cell_type": "code",
   "execution_count": null,
   "metadata": {},
   "outputs": [],
   "source": [
    "https://campus.datacamp.com/courses/free-introduction-to-r/chapter-5-data-frames?ex=1\n",
    "\n",
    "# NOTE: NO ACCESS PROVIDED TO WORKSPACE DATAFRAME SO THE FIRST PART OF THE FOLLOWING CODE CONTAINS ONLY NOTES AND IS NOT EXECUTABLE."
   ]
  },
  {
   "cell_type": "code",
   "execution_count": null,
   "metadata": {},
   "outputs": [],
   "source": [
    "# Print out built-in R data frame\n",
    "mtcars "
   ]
  },
  {
   "cell_type": "code",
   "execution_count": null,
   "metadata": {},
   "outputs": [],
   "source": [
    "#LOOKS LIKE:\n",
    "\n",
    "                    mpg cyl  disp  hp drat    wt  qsec vs am gear carb\n",
    "Mazda RX4           21.0   6 160.0 110 3.90 2.620 16.46  0  1    4    4\n",
    "Mazda RX4 Wag       21.0   6 160.0 110 3.90 2.875 17.02  0  1    4    4\n",
    "Datsun 710          22.8   4 108.0  93 3.85 2.320 18.61  1  1    4    1\n",
    "Hornet 4 Drive      21.4   6 258.0 110 3.08 3.215 19.44  1  0    3    1\n",
    "Hornet Sportabout   18.7   8 360.0 175 3.15 3.440 17.02  0  0    3    2\n",
    "Valiant             18.1   6 225.0 105 2.76 3.460 20.22  1  0    3    1\n",
    "Duster 360          14.3   8 360.0 245 3.21 3.570 15.84  0  0    3    4\n",
    "Merc 240D           24.4   4 146.7  62 3.69 3.190 20.00  1  0    4    2\n",
    "Merc 230            22.8   4 140.8  95 3.92 3.150 22.90  1  0    4    2\n",
    "Merc 280            19.2   6 167.6 123 3.92 3.440 18.30  1  0    4    4\n",
    "Merc 280C           17.8   6 167.6 123 3.92 3.440 18.90  1  0    4    4\n",
    "Merc 450SE          16.4   8 275.8 180 3.07 4.070 17.40  0  0    3    3\n",
    "Merc 450SL          17.3   8 275.8 180 3.07 3.730 17.60  0  0    3    3\n",
    "Merc 450SLC         15.2   8 275.8 180 3.07 3.780 18.00  0  0    3    3\n",
    "Cadillac Fleetwood  10.4   8 472.0 205 2.93 5.250 17.98  0  0    3    4\n",
    "Lincoln Continental 10.4   8 460.0 215 3.00 5.424 17.82  0  0    3    4\n",
    "Chrysler Imperial   14.7   8 440.0 230 3.23 5.345 17.42  0  0    3    4\n",
    "Fiat 128            32.4   4  78.7  66 4.08 2.200 19.47  1  1    4    1\n",
    "Honda Civic         30.4   4  75.7  52 4.93 1.615 18.52  1  1    4    2\n",
    "Toyota Corolla      33.9   4  71.1  65 4.22 1.835 19.90  1  1    4    1\n",
    "Toyota Corona       21.5   4 120.1  97 3.70 2.465 20.01  1  0    3    1\n",
    "Dodge Challenger    15.5   8 318.0 150 2.76 3.520 16.87  0  0    3    2\n",
    "AMC Javelin         15.2   8 304.0 150 3.15 3.435 17.30  0  0    3    2\n",
    "Camaro Z28          13.3   8 350.0 245 3.73 3.840 15.41  0  0    3    4\n",
    "Pontiac Firebird    19.2   8 400.0 175 3.08 3.845 17.05  0  0    3    2\n",
    "Fiat X1-9           27.3   4  79.0  66 4.08 1.935 18.90  1  1    4    1\n",
    "Porsche 914-2       26.0   4 120.3  91 4.43 2.140 16.70  0  1    5    2\n",
    "Lotus Europa        30.4   4  95.1 113 3.77 1.513 16.90  1  1    5    2\n",
    "Ford Pantera L      15.8   8 351.0 264 4.22 3.170 14.50  0  1    5    4\n",
    "Ferrari Dino        19.7   6 145.0 175 3.62 2.770 15.50  0  1    5    6\n",
    "Maserati Bora       15.0   8 301.0 335 3.54 3.570 14.60  0  1    5    8\n",
    "Volvo 142E          21.4   4 121.0 109 4.11 2.780 18.60  1  1    4    2"
   ]
  },
  {
   "cell_type": "code",
   "execution_count": null,
   "metadata": {},
   "outputs": [],
   "source": [
    "# the function head() enables you to show the first observations of a data frame. Similarly, the function tail() prints out the last observations in your data set.\n",
    "\n",
    "# Both head() and tail() print a top line called the 'header', which contains the names of the different variables in your data set.\n",
    "\n",
    "# Call head() on mtcars\n",
    "\n",
    "head(mtcars)"
   ]
  },
  {
   "cell_type": "code",
   "execution_count": null,
   "metadata": {},
   "outputs": [],
   "source": [
    "#LOOKS LIKE\n",
    "\n",
    "                   mpg cyl disp  hp drat    wt  qsec vs am gear carb\n",
    "Mazda RX4         21.0   6  160 110 3.90 2.620 16.46  0  1    4    4\n",
    "Mazda RX4 Wag     21.0   6  160 110 3.90 2.875 17.02  0  1    4    4\n",
    "Datsun 710        22.8   4  108  93 3.85 2.320 18.61  1  1    4    1\n",
    "Hornet 4 Drive    21.4   6  258 110 3.08 3.215 19.44  1  0    3    1\n",
    "Hornet Sportabout 18.7   8  360 175 3.15 3.440 17.02  0  0    3    2\n",
    "Valiant           18.1   6  225 105 2.76 3.460 20.22  1  0    3    1"
   ]
  },
  {
   "cell_type": "code",
   "execution_count": null,
   "metadata": {},
   "outputs": [],
   "source": [
    "# For a full overview of the variables' meaning, type ?mtcars in the console and read the help page. "
   ]
  },
  {
   "cell_type": "code",
   "execution_count": null,
   "metadata": {},
   "outputs": [],
   "source": [
    "#The function str() shows you the structure of your data set. \n",
    "\n",
    "# The total number of observations (e.g. 32 car types)\n",
    "# The total number of variables (e.g. 11 car features)\n",
    "# A full list of the variables names (e.g. mpg, cyl ... )\n",
    "# The data type of each variable (e.g. num)\n",
    "# The first observations\n",
    "\n",
    "# Investigate the structure of mtcars\n",
    "str(mtcars)"
   ]
  },
  {
   "cell_type": "code",
   "execution_count": null,
   "metadata": {},
   "outputs": [],
   "source": [
    "# LOOKS LIKE\n",
    "\n",
    "# Investigate the structure of mtcars\n",
    "str(mtcars)\n",
    "'data.frame':\t32 obs. of  11 variables:\n",
    " $ mpg : num  21 21 22.8 21.4 18.7 18.1 14.3 24.4 22.8 19.2 ...\n",
    " $ cyl : num  6 6 4 6 8 6 8 4 4 6 ...\n",
    " $ disp: num  160 160 108 258 360 ...\n",
    " $ hp  : num  110 110 93 110 175 105 245 62 95 123 ...\n",
    " $ drat: num  3.9 3.9 3.85 3.08 3.15 2.76 3.21 3.69 3.92 3.92 ...\n",
    " $ wt  : num  2.62 2.88 2.32 3.21 3.44 ...\n",
    " $ qsec: num  16.5 17 18.6 19.4 17 ...\n",
    " $ vs  : num  0 0 1 1 0 1 0 1 1 1 ...\n",
    " $ am  : num  1 1 1 0 0 0 0 0 0 0 ...\n",
    " $ gear: num  4 4 4 3 3 3 3 4 4 4 ...\n",
    " $ carb: num  4 4 1 1 2 1 4 2 2 4 ..."
   ]
  },
  {
   "cell_type": "code",
   "execution_count": 2,
   "metadata": {},
   "outputs": [
    {
     "data": {
      "text/html": [
       "<table>\n",
       "<thead><tr><th scope=col>name</th><th scope=col>type</th><th scope=col>diameter</th><th scope=col>rotation</th><th scope=col>rings</th></tr></thead>\n",
       "<tbody>\n",
       "\t<tr><td>Mercury           </td><td>Terrestrial planet</td><td> 0.382            </td><td>  58.64           </td><td>FALSE             </td></tr>\n",
       "\t<tr><td>Venus             </td><td>Terrestrial planet</td><td> 0.949            </td><td>-243.02           </td><td>FALSE             </td></tr>\n",
       "\t<tr><td>Earth             </td><td>Terrestrial planet</td><td> 1.000            </td><td>   1.00           </td><td>FALSE             </td></tr>\n",
       "\t<tr><td>Mars              </td><td>Terrestrial planet</td><td> 0.532            </td><td>   1.03           </td><td>FALSE             </td></tr>\n",
       "\t<tr><td>Jupiter           </td><td>Gas giant         </td><td>11.209            </td><td>   0.41           </td><td> TRUE             </td></tr>\n",
       "\t<tr><td>Saturn            </td><td>Gas giant         </td><td> 9.449            </td><td>   0.43           </td><td> TRUE             </td></tr>\n",
       "\t<tr><td>Uranus            </td><td>Gas giant         </td><td> 4.007            </td><td>  -0.72           </td><td> TRUE             </td></tr>\n",
       "\t<tr><td>Neptune           </td><td>Gas giant         </td><td> 3.883            </td><td>   0.67           </td><td> TRUE             </td></tr>\n",
       "</tbody>\n",
       "</table>\n"
      ],
      "text/latex": [
       "\\begin{tabular}{r|lllll}\n",
       " name & type & diameter & rotation & rings\\\\\n",
       "\\hline\n",
       "\t Mercury            & Terrestrial planet &  0.382             &   58.64            & FALSE             \\\\\n",
       "\t Venus              & Terrestrial planet &  0.949             & -243.02            & FALSE             \\\\\n",
       "\t Earth              & Terrestrial planet &  1.000             &    1.00            & FALSE             \\\\\n",
       "\t Mars               & Terrestrial planet &  0.532             &    1.03            & FALSE             \\\\\n",
       "\t Jupiter            & Gas giant          & 11.209             &    0.41            &  TRUE             \\\\\n",
       "\t Saturn             & Gas giant          &  9.449             &    0.43            &  TRUE             \\\\\n",
       "\t Uranus             & Gas giant          &  4.007             &   -0.72            &  TRUE             \\\\\n",
       "\t Neptune            & Gas giant          &  3.883             &    0.67            &  TRUE             \\\\\n",
       "\\end{tabular}\n"
      ],
      "text/markdown": [
       "\n",
       "name | type | diameter | rotation | rings | \n",
       "|---|---|---|---|---|---|---|---|\n",
       "| Mercury            | Terrestrial planet |  0.382             |   58.64            | FALSE              | \n",
       "| Venus              | Terrestrial planet |  0.949             | -243.02            | FALSE              | \n",
       "| Earth              | Terrestrial planet |  1.000             |    1.00            | FALSE              | \n",
       "| Mars               | Terrestrial planet |  0.532             |    1.03            | FALSE              | \n",
       "| Jupiter            | Gas giant          | 11.209             |    0.41            |  TRUE              | \n",
       "| Saturn             | Gas giant          |  9.449             |    0.43            |  TRUE              | \n",
       "| Uranus             | Gas giant          |  4.007             |   -0.72            |  TRUE              | \n",
       "| Neptune            | Gas giant          |  3.883             |    0.67            |  TRUE              | \n",
       "\n",
       "\n"
      ],
      "text/plain": [
       "  name    type               diameter rotation rings\n",
       "1 Mercury Terrestrial planet  0.382     58.64  FALSE\n",
       "2 Venus   Terrestrial planet  0.949   -243.02  FALSE\n",
       "3 Earth   Terrestrial planet  1.000      1.00  FALSE\n",
       "4 Mars    Terrestrial planet  0.532      1.03  FALSE\n",
       "5 Jupiter Gas giant          11.209      0.41   TRUE\n",
       "6 Saturn  Gas giant           9.449      0.43   TRUE\n",
       "7 Uranus  Gas giant           4.007     -0.72   TRUE\n",
       "8 Neptune Gas giant           3.883      0.67   TRUE"
      ]
     },
     "metadata": {},
     "output_type": "display_data"
    }
   ],
   "source": [
    "# As a first goal, you want to construct a data frame that describes the main characteristics of eight planets in our solar system. According to your good friend Buzz, the main features of a planet are:\n",
    "\n",
    "# The type of planet (Terrestrial or Gas Giant).\n",
    "# The planet's diameter relative to the diameter of the Earth.\n",
    "# The planet's rotation across the sun relative to that of the Earth.\n",
    "# If the planet has rings or not (TRUE or FALSE).\n",
    "\n",
    "# After doing some high-quality research on Wikipedia, you feel confident enough to create the necessary vectors: name, type, diameter, rotation and rings\n",
    "# You construct a data frame with the data.frame() function. As arguments, you pass the vectors from before: they will become the different columns of your data frame. \n",
    "\n",
    "# Definition of vectors\n",
    "name <- c(\"Mercury\", \"Venus\", \"Earth\", \"Mars\", \"Jupiter\", \"Saturn\", \"Uranus\", \"Neptune\")\n",
    "type <- c(\"Terrestrial planet\", \"Terrestrial planet\", \"Terrestrial planet\", \n",
    "          \"Terrestrial planet\", \"Gas giant\", \"Gas giant\", \"Gas giant\", \"Gas giant\")\n",
    "diameter <- c(0.382, 0.949, 1, 0.532, 11.209, 9.449, 4.007, 3.883)\n",
    "rotation <- c(58.64, -243.02, 1, 1.03, 0.41, 0.43, -0.72, 0.67)\n",
    "rings <- c(FALSE, FALSE, FALSE, FALSE, TRUE, TRUE, TRUE, TRUE)\n",
    "\n",
    "# Create a data frame from the vectors\n",
    "planets_df <- data.frame(name, type, diameter, rotation, rings)\n",
    "\n",
    "#print\n",
    "planets_df"
   ]
  },
  {
   "cell_type": "code",
   "execution_count": 3,
   "metadata": {},
   "outputs": [
    {
     "name": "stdout",
     "output_type": "stream",
     "text": [
      "'data.frame':\t8 obs. of  5 variables:\n",
      " $ name    : Factor w/ 8 levels \"Earth\",\"Jupiter\",..: 4 8 1 3 2 6 7 5\n",
      " $ type    : Factor w/ 2 levels \"Gas giant\",\"Terrestrial planet\": 2 2 2 2 1 1 1 1\n",
      " $ diameter: num  0.382 0.949 1 0.532 11.209 ...\n",
      " $ rotation: num  58.64 -243.02 1 1.03 0.41 ...\n",
      " $ rings   : logi  FALSE FALSE FALSE FALSE TRUE TRUE ...\n"
     ]
    }
   ],
   "source": [
    "# Check the structure of planets_df\n",
    "\n",
    "str(planets_df)"
   ]
  },
  {
   "cell_type": "code",
   "execution_count": 13,
   "metadata": {},
   "outputs": [
    {
     "data": {
      "text/html": [
       "Terrestrial planet\n",
       "<details>\n",
       "\t<summary style=display:list-item;cursor:pointer>\n",
       "\t\t<strong>Levels</strong>:\n",
       "\t</summary>\n",
       "\t<ol class=list-inline>\n",
       "\t\t<li>'Gas giant'</li>\n",
       "\t\t<li>'Terrestrial planet'</li>\n",
       "\t</ol>\n",
       "</details>"
      ],
      "text/latex": [
       "Terrestrial planet\n",
       "\\emph{Levels}: \\begin{enumerate*}\n",
       "\\item 'Gas giant'\n",
       "\\item 'Terrestrial planet'\n",
       "\\end{enumerate*}\n"
      ],
      "text/markdown": [
       "Terrestrial planet\n",
       "**Levels**: 1. 'Gas giant'\n",
       "2. 'Terrestrial planet'\n",
       "\n",
       "\n"
      ],
      "text/plain": [
       "[1] Terrestrial planet\n",
       "Levels: Gas giant Terrestrial planet"
      ]
     },
     "metadata": {},
     "output_type": "display_data"
    }
   ],
   "source": [
    "# my_df[1,2] selects the value at the first row and second column in my_df.\n",
    "planets_df[1,2]"
   ]
  },
  {
   "cell_type": "code",
   "execution_count": 14,
   "metadata": {},
   "outputs": [
    {
     "data": {
      "text/html": [
       "<table>\n",
       "<thead><tr><th scope=col>type</th><th scope=col>diameter</th><th scope=col>rotation</th></tr></thead>\n",
       "<tbody>\n",
       "\t<tr><td>Terrestrial planet</td><td>0.382             </td><td>  58.64           </td></tr>\n",
       "\t<tr><td>Terrestrial planet</td><td>0.949             </td><td>-243.02           </td></tr>\n",
       "\t<tr><td>Terrestrial planet</td><td>1.000             </td><td>   1.00           </td></tr>\n",
       "</tbody>\n",
       "</table>\n"
      ],
      "text/latex": [
       "\\begin{tabular}{r|lll}\n",
       " type & diameter & rotation\\\\\n",
       "\\hline\n",
       "\t Terrestrial planet & 0.382              &   58.64           \\\\\n",
       "\t Terrestrial planet & 0.949              & -243.02           \\\\\n",
       "\t Terrestrial planet & 1.000              &    1.00           \\\\\n",
       "\\end{tabular}\n"
      ],
      "text/markdown": [
       "\n",
       "type | diameter | rotation | \n",
       "|---|---|---|\n",
       "| Terrestrial planet | 0.382              |   58.64            | \n",
       "| Terrestrial planet | 0.949              | -243.02            | \n",
       "| Terrestrial planet | 1.000              |    1.00            | \n",
       "\n",
       "\n"
      ],
      "text/plain": [
       "  type               diameter rotation\n",
       "1 Terrestrial planet 0.382      58.64 \n",
       "2 Terrestrial planet 0.949    -243.02 \n",
       "3 Terrestrial planet 1.000       1.00 "
      ]
     },
     "metadata": {},
     "output_type": "display_data"
    }
   ],
   "source": [
    "# my_df[1:3,2:4] selects rows 1, 2, 3 and columns 2, 3, 4 in my_df.\n",
    "planets_df[1:3,2:4]"
   ]
  },
  {
   "cell_type": "code",
   "execution_count": 16,
   "metadata": {},
   "outputs": [
    {
     "data": {
      "text/html": [
       "<table>\n",
       "<thead><tr><th scope=col>name</th><th scope=col>type</th><th scope=col>diameter</th><th scope=col>rotation</th><th scope=col>rings</th></tr></thead>\n",
       "<tbody>\n",
       "\t<tr><td>Mercury           </td><td>Terrestrial planet</td><td>0.382             </td><td>58.64             </td><td>FALSE             </td></tr>\n",
       "</tbody>\n",
       "</table>\n"
      ],
      "text/latex": [
       "\\begin{tabular}{r|lllll}\n",
       " name & type & diameter & rotation & rings\\\\\n",
       "\\hline\n",
       "\t Mercury            & Terrestrial planet & 0.382              & 58.64              & FALSE             \\\\\n",
       "\\end{tabular}\n"
      ],
      "text/markdown": [
       "\n",
       "name | type | diameter | rotation | rings | \n",
       "|---|\n",
       "| Mercury            | Terrestrial planet | 0.382              | 58.64              | FALSE              | \n",
       "\n",
       "\n"
      ],
      "text/plain": [
       "  name    type               diameter rotation rings\n",
       "1 Mercury Terrestrial planet 0.382    58.64    FALSE"
      ]
     },
     "metadata": {},
     "output_type": "display_data"
    }
   ],
   "source": [
    "# Sometimes you want to select all elements of a row or column. For example, my_df[1, ] selects all elements of the first row. \n",
    "planets_df[1, ]"
   ]
  },
  {
   "cell_type": "code",
   "execution_count": 18,
   "metadata": {},
   "outputs": [
    {
     "data": {
      "text/html": [
       "<ol class=list-inline>\n",
       "\t<li>Mercury</li>\n",
       "\t<li>Venus</li>\n",
       "\t<li>Earth</li>\n",
       "\t<li>Mars</li>\n",
       "\t<li>Jupiter</li>\n",
       "\t<li>Saturn</li>\n",
       "\t<li>Uranus</li>\n",
       "\t<li>Neptune</li>\n",
       "</ol>\n",
       "\n",
       "<details>\n",
       "\t<summary style=display:list-item;cursor:pointer>\n",
       "\t\t<strong>Levels</strong>:\n",
       "\t</summary>\n",
       "\t<ol class=list-inline>\n",
       "\t\t<li>'Earth'</li>\n",
       "\t\t<li>'Jupiter'</li>\n",
       "\t\t<li>'Mars'</li>\n",
       "\t\t<li>'Mercury'</li>\n",
       "\t\t<li>'Neptune'</li>\n",
       "\t\t<li>'Saturn'</li>\n",
       "\t\t<li>'Uranus'</li>\n",
       "\t\t<li>'Venus'</li>\n",
       "\t</ol>\n",
       "</details>"
      ],
      "text/latex": [
       "\\begin{enumerate*}\n",
       "\\item Mercury\n",
       "\\item Venus\n",
       "\\item Earth\n",
       "\\item Mars\n",
       "\\item Jupiter\n",
       "\\item Saturn\n",
       "\\item Uranus\n",
       "\\item Neptune\n",
       "\\end{enumerate*}\n",
       "\n",
       "\\emph{Levels}: \\begin{enumerate*}\n",
       "\\item 'Earth'\n",
       "\\item 'Jupiter'\n",
       "\\item 'Mars'\n",
       "\\item 'Mercury'\n",
       "\\item 'Neptune'\n",
       "\\item 'Saturn'\n",
       "\\item 'Uranus'\n",
       "\\item 'Venus'\n",
       "\\end{enumerate*}\n"
      ],
      "text/markdown": [
       "1. Mercury\n",
       "2. Venus\n",
       "3. Earth\n",
       "4. Mars\n",
       "5. Jupiter\n",
       "6. Saturn\n",
       "7. Uranus\n",
       "8. Neptune\n",
       "\n",
       "\n",
       "\n",
       "**Levels**: 1. 'Earth'\n",
       "2. 'Jupiter'\n",
       "3. 'Mars'\n",
       "4. 'Mercury'\n",
       "5. 'Neptune'\n",
       "6. 'Saturn'\n",
       "7. 'Uranus'\n",
       "8. 'Venus'\n",
       "\n",
       "\n"
      ],
      "text/plain": [
       "[1] Mercury Venus   Earth   Mars    Jupiter Saturn  Uranus  Neptune\n",
       "Levels: Earth Jupiter Mars Mercury Neptune Saturn Uranus Venus"
      ]
     },
     "metadata": {},
     "output_type": "display_data"
    }
   ],
   "source": [
    "#While my_df[,1] selects all elements of the first column.\n",
    "planets_df[,1]"
   ]
  },
  {
   "cell_type": "code",
   "execution_count": 19,
   "metadata": {},
   "outputs": [
    {
     "data": {
      "text/html": [
       "0.382"
      ],
      "text/latex": [
       "0.382"
      ],
      "text/markdown": [
       "0.382"
      ],
      "text/plain": [
       "[1] 0.382"
      ]
     },
     "metadata": {},
     "output_type": "display_data"
    },
    {
     "data": {
      "text/html": [
       "<table>\n",
       "<thead><tr><th></th><th scope=col>name</th><th scope=col>type</th><th scope=col>diameter</th><th scope=col>rotation</th><th scope=col>rings</th></tr></thead>\n",
       "<tbody>\n",
       "\t<tr><th scope=row>4</th><td>Mars              </td><td>Terrestrial planet</td><td>0.532             </td><td>1.03              </td><td>FALSE             </td></tr>\n",
       "</tbody>\n",
       "</table>\n"
      ],
      "text/latex": [
       "\\begin{tabular}{r|lllll}\n",
       "  & name & type & diameter & rotation & rings\\\\\n",
       "\\hline\n",
       "\t4 & Mars               & Terrestrial planet & 0.532              & 1.03               & FALSE             \\\\\n",
       "\\end{tabular}\n"
      ],
      "text/markdown": [
       "\n",
       "| <!--/--> | name | type | diameter | rotation | rings | \n",
       "|---|\n",
       "| 4 | Mars               | Terrestrial planet | 0.532              | 1.03               | FALSE              | \n",
       "\n",
       "\n"
      ],
      "text/plain": [
       "  name type               diameter rotation rings\n",
       "4 Mars Terrestrial planet 0.532    1.03     FALSE"
      ]
     },
     "metadata": {},
     "output_type": "display_data"
    }
   ],
   "source": [
    "# The planets_df data frame from the previous exercise is pre-loaded\n",
    "\n",
    "# Print out diameter of Mercury (row 1, column 3)\n",
    "planets_df[1, 3]\n",
    "\n",
    "# Print out data for Mars (entire fourth row)\n",
    "planets_df[4,]"
   ]
  },
  {
   "cell_type": "code",
   "execution_count": 20,
   "metadata": {},
   "outputs": [
    {
     "data": {
      "text/html": [
       "<ol class=list-inline>\n",
       "\t<li>Terrestrial planet</li>\n",
       "\t<li>Terrestrial planet</li>\n",
       "\t<li>Terrestrial planet</li>\n",
       "</ol>\n",
       "\n",
       "<details>\n",
       "\t<summary style=display:list-item;cursor:pointer>\n",
       "\t\t<strong>Levels</strong>:\n",
       "\t</summary>\n",
       "\t<ol class=list-inline>\n",
       "\t\t<li>'Gas giant'</li>\n",
       "\t\t<li>'Terrestrial planet'</li>\n",
       "\t</ol>\n",
       "</details>"
      ],
      "text/latex": [
       "\\begin{enumerate*}\n",
       "\\item Terrestrial planet\n",
       "\\item Terrestrial planet\n",
       "\\item Terrestrial planet\n",
       "\\end{enumerate*}\n",
       "\n",
       "\\emph{Levels}: \\begin{enumerate*}\n",
       "\\item 'Gas giant'\n",
       "\\item 'Terrestrial planet'\n",
       "\\end{enumerate*}\n"
      ],
      "text/markdown": [
       "1. Terrestrial planet\n",
       "2. Terrestrial planet\n",
       "3. Terrestrial planet\n",
       "\n",
       "\n",
       "\n",
       "**Levels**: 1. 'Gas giant'\n",
       "2. 'Terrestrial planet'\n",
       "\n",
       "\n"
      ],
      "text/plain": [
       "[1] Terrestrial planet Terrestrial planet Terrestrial planet\n",
       "Levels: Gas giant Terrestrial planet"
      ]
     },
     "metadata": {},
     "output_type": "display_data"
    }
   ],
   "source": [
    "# Suppose you want to select the first three elements of the type column. One way to do this is\n",
    "\n",
    "# planets_df[1:3,2]\n",
    "\n",
    "# You can also use the variable name:\n",
    "\n",
    "planets_df[1:3,\"type\"]"
   ]
  },
  {
   "cell_type": "code",
   "execution_count": 21,
   "metadata": {},
   "outputs": [
    {
     "data": {
      "text/html": [
       "<ol class=list-inline>\n",
       "\t<li>0.382</li>\n",
       "\t<li>0.949</li>\n",
       "\t<li>1</li>\n",
       "\t<li>0.532</li>\n",
       "\t<li>11.209</li>\n",
       "</ol>\n"
      ],
      "text/latex": [
       "\\begin{enumerate*}\n",
       "\\item 0.382\n",
       "\\item 0.949\n",
       "\\item 1\n",
       "\\item 0.532\n",
       "\\item 11.209\n",
       "\\end{enumerate*}\n"
      ],
      "text/markdown": [
       "1. 0.382\n",
       "2. 0.949\n",
       "3. 1\n",
       "4. 0.532\n",
       "5. 11.209\n",
       "\n",
       "\n"
      ],
      "text/plain": [
       "[1]  0.382  0.949  1.000  0.532 11.209"
      ]
     },
     "metadata": {},
     "output_type": "display_data"
    }
   ],
   "source": [
    "# The planets_df data frame from the previous exercise is pre-loaded\n",
    "\n",
    "# Select first 5 values of diameter column\n",
    "\n",
    "planets_df[1:5,\"diameter\"]"
   ]
  },
  {
   "cell_type": "code",
   "execution_count": 24,
   "metadata": {},
   "outputs": [
    {
     "data": {
      "text/html": [
       "<ol class=list-inline>\n",
       "\t<li>0.382</li>\n",
       "\t<li>0.949</li>\n",
       "\t<li>1</li>\n",
       "\t<li>0.532</li>\n",
       "\t<li>11.209</li>\n",
       "\t<li>9.449</li>\n",
       "\t<li>4.007</li>\n",
       "\t<li>3.883</li>\n",
       "</ol>\n"
      ],
      "text/latex": [
       "\\begin{enumerate*}\n",
       "\\item 0.382\n",
       "\\item 0.949\n",
       "\\item 1\n",
       "\\item 0.532\n",
       "\\item 11.209\n",
       "\\item 9.449\n",
       "\\item 4.007\n",
       "\\item 3.883\n",
       "\\end{enumerate*}\n"
      ],
      "text/markdown": [
       "1. 0.382\n",
       "2. 0.949\n",
       "3. 1\n",
       "4. 0.532\n",
       "5. 11.209\n",
       "6. 9.449\n",
       "7. 4.007\n",
       "8. 3.883\n",
       "\n",
       "\n"
      ],
      "text/plain": [
       "[1]  0.382  0.949  1.000  0.532 11.209  9.449  4.007  3.883"
      ]
     },
     "metadata": {},
     "output_type": "display_data"
    },
    {
     "data": {
      "text/html": [
       "<ol class=list-inline>\n",
       "\t<li>0.382</li>\n",
       "\t<li>0.949</li>\n",
       "\t<li>1</li>\n",
       "\t<li>0.532</li>\n",
       "\t<li>11.209</li>\n",
       "\t<li>9.449</li>\n",
       "\t<li>4.007</li>\n",
       "\t<li>3.883</li>\n",
       "</ol>\n"
      ],
      "text/latex": [
       "\\begin{enumerate*}\n",
       "\\item 0.382\n",
       "\\item 0.949\n",
       "\\item 1\n",
       "\\item 0.532\n",
       "\\item 11.209\n",
       "\\item 9.449\n",
       "\\item 4.007\n",
       "\\item 3.883\n",
       "\\end{enumerate*}\n"
      ],
      "text/markdown": [
       "1. 0.382\n",
       "2. 0.949\n",
       "3. 1\n",
       "4. 0.532\n",
       "5. 11.209\n",
       "6. 9.449\n",
       "7. 4.007\n",
       "8. 3.883\n",
       "\n",
       "\n"
      ],
      "text/plain": [
       "[1]  0.382  0.949  1.000  0.532 11.209  9.449  4.007  3.883"
      ]
     },
     "metadata": {},
     "output_type": "display_data"
    },
    {
     "data": {
      "text/html": [
       "<ol class=list-inline>\n",
       "\t<li>0.382</li>\n",
       "\t<li>0.949</li>\n",
       "\t<li>1</li>\n",
       "\t<li>0.532</li>\n",
       "\t<li>11.209</li>\n",
       "\t<li>9.449</li>\n",
       "\t<li>4.007</li>\n",
       "\t<li>3.883</li>\n",
       "</ol>\n"
      ],
      "text/latex": [
       "\\begin{enumerate*}\n",
       "\\item 0.382\n",
       "\\item 0.949\n",
       "\\item 1\n",
       "\\item 0.532\n",
       "\\item 11.209\n",
       "\\item 9.449\n",
       "\\item 4.007\n",
       "\\item 3.883\n",
       "\\end{enumerate*}\n"
      ],
      "text/markdown": [
       "1. 0.382\n",
       "2. 0.949\n",
       "3. 1\n",
       "4. 0.532\n",
       "5. 11.209\n",
       "6. 9.449\n",
       "7. 4.007\n",
       "8. 3.883\n",
       "\n",
       "\n"
      ],
      "text/plain": [
       "[1]  0.382  0.949  1.000  0.532 11.209  9.449  4.007  3.883"
      ]
     },
     "metadata": {},
     "output_type": "display_data"
    }
   ],
   "source": [
    "# If you want to select all elements of the variable diameter, for example, all of these will do the trick:\n",
    "\n",
    "planets_df[,3]\n",
    "planets_df[,\"diameter\"]\n",
    "planets_df$diameter"
   ]
  },
  {
   "cell_type": "code",
   "execution_count": 25,
   "metadata": {},
   "outputs": [
    {
     "data": {
      "text/html": [
       "<ol class=list-inline>\n",
       "\t<li>FALSE</li>\n",
       "\t<li>FALSE</li>\n",
       "\t<li>FALSE</li>\n",
       "\t<li>FALSE</li>\n",
       "\t<li>TRUE</li>\n",
       "\t<li>TRUE</li>\n",
       "\t<li>TRUE</li>\n",
       "\t<li>TRUE</li>\n",
       "</ol>\n"
      ],
      "text/latex": [
       "\\begin{enumerate*}\n",
       "\\item FALSE\n",
       "\\item FALSE\n",
       "\\item FALSE\n",
       "\\item FALSE\n",
       "\\item TRUE\n",
       "\\item TRUE\n",
       "\\item TRUE\n",
       "\\item TRUE\n",
       "\\end{enumerate*}\n"
      ],
      "text/markdown": [
       "1. FALSE\n",
       "2. FALSE\n",
       "3. FALSE\n",
       "4. FALSE\n",
       "5. TRUE\n",
       "6. TRUE\n",
       "7. TRUE\n",
       "8. TRUE\n",
       "\n",
       "\n"
      ],
      "text/plain": [
       "[1] FALSE FALSE FALSE FALSE  TRUE  TRUE  TRUE  TRUE"
      ]
     },
     "metadata": {},
     "output_type": "display_data"
    }
   ],
   "source": [
    "# planets_df is pre-loaded in your workspace\n",
    "\n",
    "# Select the rings variable from planets_df\n",
    "rings_vector <- planets_df$rings\n",
    "  \n",
    "# Print out rings_vector\n",
    "\n",
    "rings_vector"
   ]
  },
  {
   "cell_type": "code",
   "execution_count": 26,
   "metadata": {},
   "outputs": [
    {
     "data": {
      "text/html": [
       "<ol class=list-inline>\n",
       "\t<li>Jupiter</li>\n",
       "\t<li>Saturn</li>\n",
       "\t<li>Uranus</li>\n",
       "\t<li>Neptune</li>\n",
       "</ol>\n",
       "\n",
       "<details>\n",
       "\t<summary style=display:list-item;cursor:pointer>\n",
       "\t\t<strong>Levels</strong>:\n",
       "\t</summary>\n",
       "\t<ol class=list-inline>\n",
       "\t\t<li>'Earth'</li>\n",
       "\t\t<li>'Jupiter'</li>\n",
       "\t\t<li>'Mars'</li>\n",
       "\t\t<li>'Mercury'</li>\n",
       "\t\t<li>'Neptune'</li>\n",
       "\t\t<li>'Saturn'</li>\n",
       "\t\t<li>'Uranus'</li>\n",
       "\t\t<li>'Venus'</li>\n",
       "\t</ol>\n",
       "</details>"
      ],
      "text/latex": [
       "\\begin{enumerate*}\n",
       "\\item Jupiter\n",
       "\\item Saturn\n",
       "\\item Uranus\n",
       "\\item Neptune\n",
       "\\end{enumerate*}\n",
       "\n",
       "\\emph{Levels}: \\begin{enumerate*}\n",
       "\\item 'Earth'\n",
       "\\item 'Jupiter'\n",
       "\\item 'Mars'\n",
       "\\item 'Mercury'\n",
       "\\item 'Neptune'\n",
       "\\item 'Saturn'\n",
       "\\item 'Uranus'\n",
       "\\item 'Venus'\n",
       "\\end{enumerate*}\n"
      ],
      "text/markdown": [
       "1. Jupiter\n",
       "2. Saturn\n",
       "3. Uranus\n",
       "4. Neptune\n",
       "\n",
       "\n",
       "\n",
       "**Levels**: 1. 'Earth'\n",
       "2. 'Jupiter'\n",
       "3. 'Mars'\n",
       "4. 'Mercury'\n",
       "5. 'Neptune'\n",
       "6. 'Saturn'\n",
       "7. 'Uranus'\n",
       "8. 'Venus'\n",
       "\n",
       "\n"
      ],
      "text/plain": [
       "[1] Jupiter Saturn  Uranus  Neptune\n",
       "Levels: Earth Jupiter Mars Mercury Neptune Saturn Uranus Venus"
      ]
     },
     "metadata": {},
     "output_type": "display_data"
    }
   ],
   "source": [
    "# selects the name column of all planets that have rings.\n",
    "planets_df[rings_vector, \"name\"]"
   ]
  },
  {
   "cell_type": "code",
   "execution_count": 27,
   "metadata": {},
   "outputs": [
    {
     "data": {
      "text/html": [
       "<table>\n",
       "<thead><tr><th></th><th scope=col>name</th><th scope=col>type</th><th scope=col>diameter</th><th scope=col>rotation</th><th scope=col>rings</th></tr></thead>\n",
       "<tbody>\n",
       "\t<tr><th scope=row>5</th><td>Jupiter  </td><td>Gas giant</td><td>11.209   </td><td> 0.41    </td><td>TRUE     </td></tr>\n",
       "\t<tr><th scope=row>6</th><td>Saturn   </td><td>Gas giant</td><td> 9.449   </td><td> 0.43    </td><td>TRUE     </td></tr>\n",
       "\t<tr><th scope=row>7</th><td>Uranus   </td><td>Gas giant</td><td> 4.007   </td><td>-0.72    </td><td>TRUE     </td></tr>\n",
       "\t<tr><th scope=row>8</th><td>Neptune  </td><td>Gas giant</td><td> 3.883   </td><td> 0.67    </td><td>TRUE     </td></tr>\n",
       "</tbody>\n",
       "</table>\n"
      ],
      "text/latex": [
       "\\begin{tabular}{r|lllll}\n",
       "  & name & type & diameter & rotation & rings\\\\\n",
       "\\hline\n",
       "\t5 & Jupiter   & Gas giant & 11.209    &  0.41     & TRUE     \\\\\n",
       "\t6 & Saturn    & Gas giant &  9.449    &  0.43     & TRUE     \\\\\n",
       "\t7 & Uranus    & Gas giant &  4.007    & -0.72     & TRUE     \\\\\n",
       "\t8 & Neptune   & Gas giant &  3.883    &  0.67     & TRUE     \\\\\n",
       "\\end{tabular}\n"
      ],
      "text/markdown": [
       "\n",
       "| <!--/--> | name | type | diameter | rotation | rings | \n",
       "|---|---|---|---|\n",
       "| 5 | Jupiter   | Gas giant | 11.209    |  0.41     | TRUE      | \n",
       "| 6 | Saturn    | Gas giant |  9.449    |  0.43     | TRUE      | \n",
       "| 7 | Uranus    | Gas giant |  4.007    | -0.72     | TRUE      | \n",
       "| 8 | Neptune   | Gas giant |  3.883    |  0.67     | TRUE      | \n",
       "\n",
       "\n"
      ],
      "text/plain": [
       "  name    type      diameter rotation rings\n",
       "5 Jupiter Gas giant 11.209    0.41    TRUE \n",
       "6 Saturn  Gas giant  9.449    0.43    TRUE \n",
       "7 Uranus  Gas giant  4.007   -0.72    TRUE \n",
       "8 Neptune Gas giant  3.883    0.67    TRUE "
      ]
     },
     "metadata": {},
     "output_type": "display_data"
    }
   ],
   "source": [
    "# Adapt the code to select all columns for planets with rings\n",
    "\n",
    "planets_df[rings_vector, ]"
   ]
  },
  {
   "cell_type": "code",
   "execution_count": 29,
   "metadata": {},
   "outputs": [
    {
     "data": {
      "text/html": [
       "<table>\n",
       "<thead><tr><th></th><th scope=col>name</th><th scope=col>type</th><th scope=col>diameter</th><th scope=col>rotation</th><th scope=col>rings</th></tr></thead>\n",
       "<tbody>\n",
       "\t<tr><th scope=row>5</th><td>Jupiter  </td><td>Gas giant</td><td>11.209   </td><td> 0.41    </td><td>TRUE     </td></tr>\n",
       "\t<tr><th scope=row>6</th><td>Saturn   </td><td>Gas giant</td><td> 9.449   </td><td> 0.43    </td><td>TRUE     </td></tr>\n",
       "\t<tr><th scope=row>7</th><td>Uranus   </td><td>Gas giant</td><td> 4.007   </td><td>-0.72    </td><td>TRUE     </td></tr>\n",
       "\t<tr><th scope=row>8</th><td>Neptune  </td><td>Gas giant</td><td> 3.883   </td><td> 0.67    </td><td>TRUE     </td></tr>\n",
       "</tbody>\n",
       "</table>\n"
      ],
      "text/latex": [
       "\\begin{tabular}{r|lllll}\n",
       "  & name & type & diameter & rotation & rings\\\\\n",
       "\\hline\n",
       "\t5 & Jupiter   & Gas giant & 11.209    &  0.41     & TRUE     \\\\\n",
       "\t6 & Saturn    & Gas giant &  9.449    &  0.43     & TRUE     \\\\\n",
       "\t7 & Uranus    & Gas giant &  4.007    & -0.72     & TRUE     \\\\\n",
       "\t8 & Neptune   & Gas giant &  3.883    &  0.67     & TRUE     \\\\\n",
       "\\end{tabular}\n"
      ],
      "text/markdown": [
       "\n",
       "| <!--/--> | name | type | diameter | rotation | rings | \n",
       "|---|---|---|---|\n",
       "| 5 | Jupiter   | Gas giant | 11.209    |  0.41     | TRUE      | \n",
       "| 6 | Saturn    | Gas giant |  9.449    |  0.43     | TRUE      | \n",
       "| 7 | Uranus    | Gas giant |  4.007    | -0.72     | TRUE      | \n",
       "| 8 | Neptune   | Gas giant |  3.883    |  0.67     | TRUE      | \n",
       "\n",
       "\n"
      ],
      "text/plain": [
       "  name    type      diameter rotation rings\n",
       "5 Jupiter Gas giant 11.209    0.41    TRUE \n",
       "6 Saturn  Gas giant  9.449    0.43    TRUE \n",
       "7 Uranus  Gas giant  4.007   -0.72    TRUE \n",
       "8 Neptune Gas giant  3.883    0.67    TRUE "
      ]
     },
     "metadata": {},
     "output_type": "display_data"
    }
   ],
   "source": [
    "# subset(my_df, subset = some_condition) does the same as above\n",
    "\n",
    "subset(planets_df, subset = rings)"
   ]
  },
  {
   "cell_type": "code",
   "execution_count": 30,
   "metadata": {},
   "outputs": [
    {
     "data": {
      "text/html": [
       "<table>\n",
       "<thead><tr><th></th><th scope=col>name</th><th scope=col>type</th><th scope=col>diameter</th><th scope=col>rotation</th><th scope=col>rings</th></tr></thead>\n",
       "<tbody>\n",
       "\t<tr><th scope=row>1</th><td>Mercury           </td><td>Terrestrial planet</td><td>0.382             </td><td>  58.64           </td><td>FALSE             </td></tr>\n",
       "\t<tr><th scope=row>2</th><td>Venus             </td><td>Terrestrial planet</td><td>0.949             </td><td>-243.02           </td><td>FALSE             </td></tr>\n",
       "\t<tr><th scope=row>4</th><td>Mars              </td><td>Terrestrial planet</td><td>0.532             </td><td>   1.03           </td><td>FALSE             </td></tr>\n",
       "</tbody>\n",
       "</table>\n"
      ],
      "text/latex": [
       "\\begin{tabular}{r|lllll}\n",
       "  & name & type & diameter & rotation & rings\\\\\n",
       "\\hline\n",
       "\t1 & Mercury            & Terrestrial planet & 0.382              &   58.64            & FALSE             \\\\\n",
       "\t2 & Venus              & Terrestrial planet & 0.949              & -243.02            & FALSE             \\\\\n",
       "\t4 & Mars               & Terrestrial planet & 0.532              &    1.03            & FALSE             \\\\\n",
       "\\end{tabular}\n"
      ],
      "text/markdown": [
       "\n",
       "| <!--/--> | name | type | diameter | rotation | rings | \n",
       "|---|---|---|\n",
       "| 1 | Mercury            | Terrestrial planet | 0.382              |   58.64            | FALSE              | \n",
       "| 2 | Venus              | Terrestrial planet | 0.949              | -243.02            | FALSE              | \n",
       "| 4 | Mars               | Terrestrial planet | 0.532              |    1.03            | FALSE              | \n",
       "\n",
       "\n"
      ],
      "text/plain": [
       "  name    type               diameter rotation rings\n",
       "1 Mercury Terrestrial planet 0.382      58.64  FALSE\n",
       "2 Venus   Terrestrial planet 0.949    -243.02  FALSE\n",
       "4 Mars    Terrestrial planet 0.532       1.03  FALSE"
      ]
     },
     "metadata": {},
     "output_type": "display_data"
    }
   ],
   "source": [
    "# Select planets with diameter < 1\n",
    "\n",
    "subset(planets_df, subset = diameter < 1)"
   ]
  },
  {
   "cell_type": "code",
   "execution_count": 37,
   "metadata": {},
   "outputs": [
    {
     "data": {
      "text/html": [
       "<ol class=list-inline>\n",
       "\t<li>2</li>\n",
       "\t<li>1</li>\n",
       "\t<li>3</li>\n",
       "</ol>\n"
      ],
      "text/latex": [
       "\\begin{enumerate*}\n",
       "\\item 2\n",
       "\\item 1\n",
       "\\item 3\n",
       "\\end{enumerate*}\n"
      ],
      "text/markdown": [
       "1. 2\n",
       "2. 1\n",
       "3. 3\n",
       "\n",
       "\n"
      ],
      "text/plain": [
       "[1] 2 1 3"
      ]
     },
     "metadata": {},
     "output_type": "display_data"
    }
   ],
   "source": [
    "# order() is a function that gives you the ranked position of each element when it is applied on a variable, such as a vector for example:\n",
    "\n",
    "#vector a\n",
    "a <- c(100, 10, 1000)\n",
    "\n",
    "#order vector a\n",
    "order(a)"
   ]
  },
  {
   "cell_type": "code",
   "execution_count": 38,
   "metadata": {},
   "outputs": [
    {
     "data": {
      "text/html": [
       "<ol class=list-inline>\n",
       "\t<li>10</li>\n",
       "\t<li>100</li>\n",
       "\t<li>1000</li>\n",
       "</ol>\n"
      ],
      "text/latex": [
       "\\begin{enumerate*}\n",
       "\\item 10\n",
       "\\item 100\n",
       "\\item 1000\n",
       "\\end{enumerate*}\n"
      ],
      "text/markdown": [
       "1. 10\n",
       "2. 100\n",
       "3. 1000\n",
       "\n",
       "\n"
      ],
      "text/plain": [
       "[1]   10  100 1000"
      ]
     },
     "metadata": {},
     "output_type": "display_data"
    }
   ],
   "source": [
    "# we can use the output of order(a) to reshuffle a:\n",
    "\n",
    "a[order(a)]"
   ]
  },
  {
   "cell_type": "code",
   "execution_count": 44,
   "metadata": {},
   "outputs": [
    {
     "data": {
      "text/html": [
       "<ol class=list-inline>\n",
       "\t<li>0.382</li>\n",
       "\t<li>0.949</li>\n",
       "\t<li>1</li>\n",
       "\t<li>0.532</li>\n",
       "\t<li>11.209</li>\n",
       "\t<li>9.449</li>\n",
       "\t<li>4.007</li>\n",
       "\t<li>3.883</li>\n",
       "</ol>\n"
      ],
      "text/latex": [
       "\\begin{enumerate*}\n",
       "\\item 0.382\n",
       "\\item 0.949\n",
       "\\item 1\n",
       "\\item 0.532\n",
       "\\item 11.209\n",
       "\\item 9.449\n",
       "\\item 4.007\n",
       "\\item 3.883\n",
       "\\end{enumerate*}\n"
      ],
      "text/markdown": [
       "1. 0.382\n",
       "2. 0.949\n",
       "3. 1\n",
       "4. 0.532\n",
       "5. 11.209\n",
       "6. 9.449\n",
       "7. 4.007\n",
       "8. 3.883\n",
       "\n",
       "\n"
      ],
      "text/plain": [
       "[1]  0.382  0.949  1.000  0.532 11.209  9.449  4.007  3.883"
      ]
     },
     "metadata": {},
     "output_type": "display_data"
    }
   ],
   "source": [
    "# see diameters\n",
    "\n",
    "planets_df$diameter"
   ]
  },
  {
   "cell_type": "code",
   "execution_count": 45,
   "metadata": {},
   "outputs": [
    {
     "data": {
      "text/html": [
       "<ol class=list-inline>\n",
       "\t<li>1</li>\n",
       "\t<li>4</li>\n",
       "\t<li>2</li>\n",
       "\t<li>3</li>\n",
       "\t<li>8</li>\n",
       "\t<li>7</li>\n",
       "\t<li>6</li>\n",
       "\t<li>5</li>\n",
       "</ol>\n"
      ],
      "text/latex": [
       "\\begin{enumerate*}\n",
       "\\item 1\n",
       "\\item 4\n",
       "\\item 2\n",
       "\\item 3\n",
       "\\item 8\n",
       "\\item 7\n",
       "\\item 6\n",
       "\\item 5\n",
       "\\end{enumerate*}\n"
      ],
      "text/markdown": [
       "1. 1\n",
       "2. 4\n",
       "3. 2\n",
       "4. 3\n",
       "5. 8\n",
       "6. 7\n",
       "7. 6\n",
       "8. 5\n",
       "\n",
       "\n"
      ],
      "text/plain": [
       "[1] 1 4 2 3 8 7 6 5"
      ]
     },
     "metadata": {},
     "output_type": "display_data"
    }
   ],
   "source": [
    "# Use order() to create positions. Call order() on planets_df$diameter (the diameter column of planets_df). Store the result as positions.\n",
    "\n",
    "positions <-  order(planets_df$diameter)\n",
    "positions"
   ]
  },
  {
   "cell_type": "code",
   "execution_count": 49,
   "metadata": {},
   "outputs": [
    {
     "data": {
      "text/html": [
       "<table>\n",
       "<thead><tr><th></th><th scope=col>name</th><th scope=col>type</th><th scope=col>diameter</th><th scope=col>rotation</th><th scope=col>rings</th></tr></thead>\n",
       "<tbody>\n",
       "\t<tr><th scope=row>1</th><td>Mercury           </td><td>Terrestrial planet</td><td> 0.382            </td><td>  58.64           </td><td>FALSE             </td></tr>\n",
       "\t<tr><th scope=row>4</th><td>Mars              </td><td>Terrestrial planet</td><td> 0.532            </td><td>   1.03           </td><td>FALSE             </td></tr>\n",
       "\t<tr><th scope=row>2</th><td>Venus             </td><td>Terrestrial planet</td><td> 0.949            </td><td>-243.02           </td><td>FALSE             </td></tr>\n",
       "\t<tr><th scope=row>3</th><td>Earth             </td><td>Terrestrial planet</td><td> 1.000            </td><td>   1.00           </td><td>FALSE             </td></tr>\n",
       "\t<tr><th scope=row>8</th><td>Neptune           </td><td>Gas giant         </td><td> 3.883            </td><td>   0.67           </td><td> TRUE             </td></tr>\n",
       "\t<tr><th scope=row>7</th><td>Uranus            </td><td>Gas giant         </td><td> 4.007            </td><td>  -0.72           </td><td> TRUE             </td></tr>\n",
       "\t<tr><th scope=row>6</th><td>Saturn            </td><td>Gas giant         </td><td> 9.449            </td><td>   0.43           </td><td> TRUE             </td></tr>\n",
       "\t<tr><th scope=row>5</th><td>Jupiter           </td><td>Gas giant         </td><td>11.209            </td><td>   0.41           </td><td> TRUE             </td></tr>\n",
       "</tbody>\n",
       "</table>\n"
      ],
      "text/latex": [
       "\\begin{tabular}{r|lllll}\n",
       "  & name & type & diameter & rotation & rings\\\\\n",
       "\\hline\n",
       "\t1 & Mercury            & Terrestrial planet &  0.382             &   58.64            & FALSE             \\\\\n",
       "\t4 & Mars               & Terrestrial planet &  0.532             &    1.03            & FALSE             \\\\\n",
       "\t2 & Venus              & Terrestrial planet &  0.949             & -243.02            & FALSE             \\\\\n",
       "\t3 & Earth              & Terrestrial planet &  1.000             &    1.00            & FALSE             \\\\\n",
       "\t8 & Neptune            & Gas giant          &  3.883             &    0.67            &  TRUE             \\\\\n",
       "\t7 & Uranus             & Gas giant          &  4.007             &   -0.72            &  TRUE             \\\\\n",
       "\t6 & Saturn             & Gas giant          &  9.449             &    0.43            &  TRUE             \\\\\n",
       "\t5 & Jupiter            & Gas giant          & 11.209             &    0.41            &  TRUE             \\\\\n",
       "\\end{tabular}\n"
      ],
      "text/markdown": [
       "\n",
       "| <!--/--> | name | type | diameter | rotation | rings | \n",
       "|---|---|---|---|---|---|---|---|\n",
       "| 1 | Mercury            | Terrestrial planet |  0.382             |   58.64            | FALSE              | \n",
       "| 4 | Mars               | Terrestrial planet |  0.532             |    1.03            | FALSE              | \n",
       "| 2 | Venus              | Terrestrial planet |  0.949             | -243.02            | FALSE              | \n",
       "| 3 | Earth              | Terrestrial planet |  1.000             |    1.00            | FALSE              | \n",
       "| 8 | Neptune            | Gas giant          |  3.883             |    0.67            |  TRUE              | \n",
       "| 7 | Uranus             | Gas giant          |  4.007             |   -0.72            |  TRUE              | \n",
       "| 6 | Saturn             | Gas giant          |  9.449             |    0.43            |  TRUE              | \n",
       "| 5 | Jupiter            | Gas giant          | 11.209             |    0.41            |  TRUE              | \n",
       "\n",
       "\n"
      ],
      "text/plain": [
       "  name    type               diameter rotation rings\n",
       "1 Mercury Terrestrial planet  0.382     58.64  FALSE\n",
       "4 Mars    Terrestrial planet  0.532      1.03  FALSE\n",
       "2 Venus   Terrestrial planet  0.949   -243.02  FALSE\n",
       "3 Earth   Terrestrial planet  1.000      1.00  FALSE\n",
       "8 Neptune Gas giant           3.883      0.67   TRUE\n",
       "7 Uranus  Gas giant           4.007     -0.72   TRUE\n",
       "6 Saturn  Gas giant           9.449      0.43   TRUE\n",
       "5 Jupiter Gas giant          11.209      0.41   TRUE"
      ]
     },
     "metadata": {},
     "output_type": "display_data"
    }
   ],
   "source": [
    "# Use positions to sort planets_df. Now reshuffle planets_df with the positions vector as row indexes inside square brackets. Keep all columns. Simply print out the result.\n",
    "\n",
    "planets_df[positions, ]"
   ]
  }
 ],
 "metadata": {
  "kernelspec": {
   "display_name": "R",
   "language": "R",
   "name": "ir"
  },
  "language_info": {
   "codemirror_mode": "r",
   "file_extension": ".r",
   "mimetype": "text/x-r-source",
   "name": "R",
   "pygments_lexer": "r",
   "version": "3.5.0"
  }
 },
 "nbformat": 4,
 "nbformat_minor": 2
}
